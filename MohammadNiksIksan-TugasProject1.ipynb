{
 "cells": [
  {
   "cell_type": "code",
   "execution_count": 1,
   "metadata": {},
   "outputs": [],
   "source": [
    "import pandas as pd\n",
    "import numpy as np\n",
    "import matplotlib.pyplot as plt"
   ]
  },
  {
   "cell_type": "code",
   "execution_count": 21,
   "metadata": {},
   "outputs": [],
   "source": [
    "class CSV:\n",
    "    def __init__(self,file):\n",
    "        self.file=file\n",
    "    def read(self):\n",
    "        try:\n",
    "            df=pd.read_csv(self.file)\n",
    "            return df\n",
    "        except FileNotFoundError:\n",
    "            print(\"Data tidak ditemukan\")"
   ]
  },
  {
   "cell_type": "code",
   "execution_count": 22,
   "metadata": {},
   "outputs": [],
   "source": [
    "data=CSV(\"stocks.csv\")"
   ]
  },
  {
   "cell_type": "code",
   "execution_count": 23,
   "metadata": {},
   "outputs": [
    {
     "data": {
      "text/html": [
       "<div>\n",
       "<style scoped>\n",
       "    .dataframe tbody tr th:only-of-type {\n",
       "        vertical-align: middle;\n",
       "    }\n",
       "\n",
       "    .dataframe tbody tr th {\n",
       "        vertical-align: top;\n",
       "    }\n",
       "\n",
       "    .dataframe thead th {\n",
       "        text-align: right;\n",
       "    }\n",
       "</style>\n",
       "<table border=\"1\" class=\"dataframe\">\n",
       "  <thead>\n",
       "    <tr style=\"text-align: right;\">\n",
       "      <th></th>\n",
       "      <th>Date</th>\n",
       "      <th>AAPL</th>\n",
       "      <th>IBM</th>\n",
       "      <th>CSCO</th>\n",
       "      <th>MSFT</th>\n",
       "    </tr>\n",
       "  </thead>\n",
       "  <tbody>\n",
       "    <tr>\n",
       "      <td>0</td>\n",
       "      <td>2000-01-03</td>\n",
       "      <td>111.937502</td>\n",
       "      <td>116.000000</td>\n",
       "      <td>108.062500</td>\n",
       "      <td>116.562500</td>\n",
       "    </tr>\n",
       "    <tr>\n",
       "      <td>1</td>\n",
       "      <td>2000-01-04</td>\n",
       "      <td>102.500003</td>\n",
       "      <td>112.062500</td>\n",
       "      <td>102.000000</td>\n",
       "      <td>112.625000</td>\n",
       "    </tr>\n",
       "    <tr>\n",
       "      <td>2</td>\n",
       "      <td>2000-01-05</td>\n",
       "      <td>103.999997</td>\n",
       "      <td>116.000000</td>\n",
       "      <td>101.687500</td>\n",
       "      <td>113.812500</td>\n",
       "    </tr>\n",
       "    <tr>\n",
       "      <td>3</td>\n",
       "      <td>2000-01-06</td>\n",
       "      <td>94.999998</td>\n",
       "      <td>114.000000</td>\n",
       "      <td>100.000000</td>\n",
       "      <td>110.000000</td>\n",
       "    </tr>\n",
       "    <tr>\n",
       "      <td>4</td>\n",
       "      <td>2000-01-07</td>\n",
       "      <td>99.500001</td>\n",
       "      <td>113.500000</td>\n",
       "      <td>105.875000</td>\n",
       "      <td>111.437500</td>\n",
       "    </tr>\n",
       "    <tr>\n",
       "      <td>...</td>\n",
       "      <td>...</td>\n",
       "      <td>...</td>\n",
       "      <td>...</td>\n",
       "      <td>...</td>\n",
       "      <td>...</td>\n",
       "    </tr>\n",
       "    <tr>\n",
       "      <td>3516</td>\n",
       "      <td>2013-12-24</td>\n",
       "      <td>567.669975</td>\n",
       "      <td>183.220001</td>\n",
       "      <td>21.690001</td>\n",
       "      <td>37.080002</td>\n",
       "    </tr>\n",
       "    <tr>\n",
       "      <td>3517</td>\n",
       "      <td>2013-12-26</td>\n",
       "      <td>563.900009</td>\n",
       "      <td>185.350006</td>\n",
       "      <td>21.799999</td>\n",
       "      <td>37.439999</td>\n",
       "    </tr>\n",
       "    <tr>\n",
       "      <td>3518</td>\n",
       "      <td>2013-12-27</td>\n",
       "      <td>560.089989</td>\n",
       "      <td>185.080002</td>\n",
       "      <td>22.020000</td>\n",
       "      <td>37.290001</td>\n",
       "    </tr>\n",
       "    <tr>\n",
       "      <td>3519</td>\n",
       "      <td>2013-12-30</td>\n",
       "      <td>554.519981</td>\n",
       "      <td>186.410004</td>\n",
       "      <td>22.250000</td>\n",
       "      <td>37.290001</td>\n",
       "    </tr>\n",
       "    <tr>\n",
       "      <td>3520</td>\n",
       "      <td>2013-12-31</td>\n",
       "      <td>561.019997</td>\n",
       "      <td>187.570007</td>\n",
       "      <td>22.430000</td>\n",
       "      <td>37.410000</td>\n",
       "    </tr>\n",
       "  </tbody>\n",
       "</table>\n",
       "<p>3521 rows × 5 columns</p>\n",
       "</div>"
      ],
      "text/plain": [
       "            Date        AAPL         IBM        CSCO        MSFT\n",
       "0     2000-01-03  111.937502  116.000000  108.062500  116.562500\n",
       "1     2000-01-04  102.500003  112.062500  102.000000  112.625000\n",
       "2     2000-01-05  103.999997  116.000000  101.687500  113.812500\n",
       "3     2000-01-06   94.999998  114.000000  100.000000  110.000000\n",
       "4     2000-01-07   99.500001  113.500000  105.875000  111.437500\n",
       "...          ...         ...         ...         ...         ...\n",
       "3516  2013-12-24  567.669975  183.220001   21.690001   37.080002\n",
       "3517  2013-12-26  563.900009  185.350006   21.799999   37.439999\n",
       "3518  2013-12-27  560.089989  185.080002   22.020000   37.290001\n",
       "3519  2013-12-30  554.519981  186.410004   22.250000   37.290001\n",
       "3520  2013-12-31  561.019997  187.570007   22.430000   37.410000\n",
       "\n",
       "[3521 rows x 5 columns]"
      ]
     },
     "execution_count": 23,
     "metadata": {},
     "output_type": "execute_result"
    }
   ],
   "source": [
    "data.read()"
   ]
  },
  {
   "cell_type": "code",
   "execution_count": 24,
   "metadata": {},
   "outputs": [
    {
     "data": {
      "text/html": [
       "<div>\n",
       "<style scoped>\n",
       "    .dataframe tbody tr th:only-of-type {\n",
       "        vertical-align: middle;\n",
       "    }\n",
       "\n",
       "    .dataframe tbody tr th {\n",
       "        vertical-align: top;\n",
       "    }\n",
       "\n",
       "    .dataframe thead th {\n",
       "        text-align: right;\n",
       "    }\n",
       "</style>\n",
       "<table border=\"1\" class=\"dataframe\">\n",
       "  <thead>\n",
       "    <tr style=\"text-align: right;\">\n",
       "      <th></th>\n",
       "      <th>Date</th>\n",
       "      <th>AAPL</th>\n",
       "      <th>IBM</th>\n",
       "      <th>CSCO</th>\n",
       "      <th>MSFT</th>\n",
       "    </tr>\n",
       "  </thead>\n",
       "  <tbody>\n",
       "    <tr>\n",
       "      <td>0</td>\n",
       "      <td>2000-01-03</td>\n",
       "      <td>111.937502</td>\n",
       "      <td>116.0000</td>\n",
       "      <td>108.0625</td>\n",
       "      <td>116.5625</td>\n",
       "    </tr>\n",
       "    <tr>\n",
       "      <td>1</td>\n",
       "      <td>2000-01-04</td>\n",
       "      <td>102.500003</td>\n",
       "      <td>112.0625</td>\n",
       "      <td>102.0000</td>\n",
       "      <td>112.6250</td>\n",
       "    </tr>\n",
       "    <tr>\n",
       "      <td>2</td>\n",
       "      <td>2000-01-05</td>\n",
       "      <td>103.999997</td>\n",
       "      <td>116.0000</td>\n",
       "      <td>101.6875</td>\n",
       "      <td>113.8125</td>\n",
       "    </tr>\n",
       "    <tr>\n",
       "      <td>3</td>\n",
       "      <td>2000-01-06</td>\n",
       "      <td>94.999998</td>\n",
       "      <td>114.0000</td>\n",
       "      <td>100.0000</td>\n",
       "      <td>110.0000</td>\n",
       "    </tr>\n",
       "    <tr>\n",
       "      <td>4</td>\n",
       "      <td>2000-01-07</td>\n",
       "      <td>99.500001</td>\n",
       "      <td>113.5000</td>\n",
       "      <td>105.8750</td>\n",
       "      <td>111.4375</td>\n",
       "    </tr>\n",
       "  </tbody>\n",
       "</table>\n",
       "</div>"
      ],
      "text/plain": [
       "         Date        AAPL       IBM      CSCO      MSFT\n",
       "0  2000-01-03  111.937502  116.0000  108.0625  116.5625\n",
       "1  2000-01-04  102.500003  112.0625  102.0000  112.6250\n",
       "2  2000-01-05  103.999997  116.0000  101.6875  113.8125\n",
       "3  2000-01-06   94.999998  114.0000  100.0000  110.0000\n",
       "4  2000-01-07   99.500001  113.5000  105.8750  111.4375"
      ]
     },
     "execution_count": 24,
     "metadata": {},
     "output_type": "execute_result"
    }
   ],
   "source": [
    "data.read().head(5)"
   ]
  },
  {
   "cell_type": "code",
   "execution_count": 25,
   "metadata": {},
   "outputs": [
    {
     "data": {
      "text/html": [
       "<div>\n",
       "<style scoped>\n",
       "    .dataframe tbody tr th:only-of-type {\n",
       "        vertical-align: middle;\n",
       "    }\n",
       "\n",
       "    .dataframe tbody tr th {\n",
       "        vertical-align: top;\n",
       "    }\n",
       "\n",
       "    .dataframe thead th {\n",
       "        text-align: right;\n",
       "    }\n",
       "</style>\n",
       "<table border=\"1\" class=\"dataframe\">\n",
       "  <thead>\n",
       "    <tr style=\"text-align: right;\">\n",
       "      <th></th>\n",
       "      <th>Date</th>\n",
       "      <th>AAPL</th>\n",
       "      <th>IBM</th>\n",
       "      <th>CSCO</th>\n",
       "      <th>MSFT</th>\n",
       "    </tr>\n",
       "  </thead>\n",
       "  <tbody>\n",
       "    <tr>\n",
       "      <td>3516</td>\n",
       "      <td>2013-12-24</td>\n",
       "      <td>567.669975</td>\n",
       "      <td>183.220001</td>\n",
       "      <td>21.690001</td>\n",
       "      <td>37.080002</td>\n",
       "    </tr>\n",
       "    <tr>\n",
       "      <td>3517</td>\n",
       "      <td>2013-12-26</td>\n",
       "      <td>563.900009</td>\n",
       "      <td>185.350006</td>\n",
       "      <td>21.799999</td>\n",
       "      <td>37.439999</td>\n",
       "    </tr>\n",
       "    <tr>\n",
       "      <td>3518</td>\n",
       "      <td>2013-12-27</td>\n",
       "      <td>560.089989</td>\n",
       "      <td>185.080002</td>\n",
       "      <td>22.020000</td>\n",
       "      <td>37.290001</td>\n",
       "    </tr>\n",
       "    <tr>\n",
       "      <td>3519</td>\n",
       "      <td>2013-12-30</td>\n",
       "      <td>554.519981</td>\n",
       "      <td>186.410004</td>\n",
       "      <td>22.250000</td>\n",
       "      <td>37.290001</td>\n",
       "    </tr>\n",
       "    <tr>\n",
       "      <td>3520</td>\n",
       "      <td>2013-12-31</td>\n",
       "      <td>561.019997</td>\n",
       "      <td>187.570007</td>\n",
       "      <td>22.430000</td>\n",
       "      <td>37.410000</td>\n",
       "    </tr>\n",
       "  </tbody>\n",
       "</table>\n",
       "</div>"
      ],
      "text/plain": [
       "            Date        AAPL         IBM       CSCO       MSFT\n",
       "3516  2013-12-24  567.669975  183.220001  21.690001  37.080002\n",
       "3517  2013-12-26  563.900009  185.350006  21.799999  37.439999\n",
       "3518  2013-12-27  560.089989  185.080002  22.020000  37.290001\n",
       "3519  2013-12-30  554.519981  186.410004  22.250000  37.290001\n",
       "3520  2013-12-31  561.019997  187.570007  22.430000  37.410000"
      ]
     },
     "execution_count": 25,
     "metadata": {},
     "output_type": "execute_result"
    }
   ],
   "source": [
    "data.read().tail(5)"
   ]
  },
  {
   "cell_type": "code",
   "execution_count": 26,
   "metadata": {},
   "outputs": [
    {
     "name": "stdout",
     "output_type": "stream",
     "text": [
      "<class 'pandas.core.frame.DataFrame'>\n",
      "RangeIndex: 3521 entries, 0 to 3520\n",
      "Data columns (total 5 columns):\n",
      "Date    3521 non-null object\n",
      "AAPL    3521 non-null float64\n",
      "IBM     3521 non-null float64\n",
      "CSCO    3521 non-null float64\n",
      "MSFT    3521 non-null float64\n",
      "dtypes: float64(4), object(1)\n",
      "memory usage: 137.7+ KB\n"
     ]
    }
   ],
   "source": [
    "data.read().info()"
   ]
  },
  {
   "cell_type": "code",
   "execution_count": 27,
   "metadata": {},
   "outputs": [],
   "source": [
    "#dari line diatas didapatkan bahwa setiap kolom tidak memiliki missing values dilihat dari semua entries (3521) non-null"
   ]
  },
  {
   "cell_type": "code",
   "execution_count": 28,
   "metadata": {},
   "outputs": [
    {
     "name": "stdout",
     "output_type": "stream",
     "text": [
      "Date    0\n",
      "AAPL    0\n",
      "IBM     0\n",
      "CSCO    0\n",
      "MSFT    0\n",
      "dtype: int64\n"
     ]
    }
   ],
   "source": [
    "#dapat juga missing values dicek dengan cara sebagai berikut\n",
    "print(data.read().isna().sum())"
   ]
  },
  {
   "cell_type": "code",
   "execution_count": 29,
   "metadata": {},
   "outputs": [
    {
     "data": {
      "text/plain": [
       "<matplotlib.axes._subplots.AxesSubplot at 0x2c79480d3c8>"
      ]
     },
     "execution_count": 29,
     "metadata": {},
     "output_type": "execute_result"
    },
    {
     "data": {
      "image/png": "[encoded data removed]",
      "text/plain": [
       "<Figure size 432x288 with 1 Axes>"
      ]
     },
     "metadata": {
      "needs_background": "light"
     },
     "output_type": "display_data"
    }
   ],
   "source": [
    "data.read().AAPL.plot(kind='hist')"
   ]
  },
  {
   "cell_type": "code",
   "execution_count": 30,
   "metadata": {},
   "outputs": [
    {
     "data": {
      "text/plain": [
       "(1854, 5)"
      ]
     },
     "execution_count": 30,
     "metadata": {},
     "output_type": "execute_result"
    }
   ],
   "source": [
    "data.read()[data.read().AAPL < 100 ].shape"
   ]
  },
  {
   "cell_type": "code",
   "execution_count": 31,
   "metadata": {},
   "outputs": [
    {
     "data": {
      "text/plain": [
       "<matplotlib.axes._subplots.AxesSubplot at 0x2c79468e748>"
      ]
     },
     "execution_count": 31,
     "metadata": {},
     "output_type": "execute_result"
    },
    {
     "data": {
      "image/png": "[encoded data removed]",
      "text/plain": [
       "<Figure size 432x288 with 1 Axes>"
      ]
     },
     "metadata": {
      "needs_background": "light"
     },
     "output_type": "display_data"
    }
   ],
   "source": [
    "data.read().IBM.plot(kind='hist')"
   ]
  },
  {
   "cell_type": "code",
   "execution_count": 32,
   "metadata": {},
   "outputs": [
    {
     "data": {
      "text/plain": [
       "<matplotlib.axes._subplots.AxesSubplot at 0x2c794699f08>"
      ]
     },
     "execution_count": 32,
     "metadata": {},
     "output_type": "execute_result"
    },
    {
     "data": {
      "image/png": "[encoded data removed]",
      "text/plain": [
       "<Figure size 432x288 with 1 Axes>"
      ]
     },
     "metadata": {
      "needs_background": "light"
     },
     "output_type": "display_data"
    }
   ],
   "source": [
    "data.read().CSCO.plot(kind='hist')"
   ]
  },
  {
   "cell_type": "code",
   "execution_count": 33,
   "metadata": {},
   "outputs": [
    {
     "data": {
      "text/plain": [
       "<matplotlib.axes._subplots.AxesSubplot at 0x2c794732548>"
      ]
     },
     "execution_count": 33,
     "metadata": {},
     "output_type": "execute_result"
    },
    {
     "data": {
      "image/png": "[encoded data removed]",
      "text/plain": [
       "<Figure size 432x288 with 1 Axes>"
      ]
     },
     "metadata": {
      "needs_background": "light"
     },
     "output_type": "display_data"
    }
   ],
   "source": [
    "data.read().MSFT.plot(kind='hist')"
   ]
  },
  {
   "cell_type": "code",
   "execution_count": 34,
   "metadata": {},
   "outputs": [],
   "source": [
    "def scatterplot(x_data, y_data, x_label, y_label, title):\n",
    "    fig, ax = plt.subplots()\n",
    "    ax.scatter(x_data, y_data)\n",
    "    ax.set_title(title)\n",
    "    ax.set_xlabel(x_label)\n",
    "    ax.set_ylabel(y_label)\n",
    "    fig.autofmt_xdate()"
   ]
  },
  {
   "cell_type": "code",
   "execution_count": 35,
   "metadata": {},
   "outputs": [
    {
     "data": {
      "image/png": "[encoded data removed]",
      "text/plain": [
       "<Figure size 432x288 with 1 Axes>"
      ]
     },
     "metadata": {
      "needs_background": "light"
     },
     "output_type": "display_data"
    }
   ],
   "source": [
    "x = pd.to_datetime(data.read().Date, format='%Y/%m/%d')\n",
    "y1 = data.read().AAPL\n",
    "scatterplot(x,y1, \"Date\", \"AAPL\", \"Plot AAPL\")"
   ]
  },
  {
   "cell_type": "code",
   "execution_count": 36,
   "metadata": {},
   "outputs": [
    {
     "data": {
      "image/png": "[encoded data removed]",
      "text/plain": [
       "<Figure size 432x288 with 1 Axes>"
      ]
     },
     "metadata": {
      "needs_background": "light"
     },
     "output_type": "display_data"
    }
   ],
   "source": [
    "x = pd.to_datetime(data.read().Date, format='%Y/%m/%d')\n",
    "y2 = data.read().IBM\n",
    "scatterplot(x,y2, \"Date\", \"IBM\", \"Plot IBM\")"
   ]
  },
  {
   "cell_type": "code",
   "execution_count": 37,
   "metadata": {},
   "outputs": [
    {
     "data": {
      "image/png": "[encoded data removed]",
      "text/plain": [
       "<Figure size 432x288 with 1 Axes>"
      ]
     },
     "metadata": {
      "needs_background": "light"
     },
     "output_type": "display_data"
    }
   ],
   "source": [
    "x = pd.to_datetime(data.read().Date, format='%Y/%m/%d')\n",
    "y3 = data.read().CSCO\n",
    "scatterplot(x,y3, \"Date\", \"CSCO\", \"Plot CSCO\")"
   ]
  },
  {
   "cell_type": "code",
   "execution_count": 38,
   "metadata": {},
   "outputs": [
    {
     "data": {
      "image/png": "[encoded data removed]",
      "text/plain": [
       "<Figure size 432x288 with 1 Axes>"
      ]
     },
     "metadata": {
      "needs_background": "light"
     },
     "output_type": "display_data"
    }
   ],
   "source": [
    "x = pd.to_datetime(data.read().Date, format='%Y/%m/%d')\n",
    "y4 = data.read().MSFT\n",
    "scatterplot(x,y4, \"Date\", \"MSFT\", \"Plot MSFT\")"
   ]
  }
 ],
 "metadata": {
  "kernelspec": {
   "display_name": "Python 3",
   "language": "python",
   "name": "python3"
  },
  "language_info": {
   "codemirror_mode": {
    "name": "ipython",
    "version": 3
   },
   "file_extension": ".py",
   "mimetype": "text/x-python",
   "name": "python",
   "nbconvert_exporter": "python",
   "pygments_lexer": "ipython3",
   "version": "3.7.4"
  }
 },
 "nbformat": 4,
 "nbformat_minor": 2
}
